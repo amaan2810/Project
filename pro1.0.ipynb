{
 "cells": [
  {
   "cell_type": "code",
   "execution_count": null,
   "metadata": {},
   "outputs": [],
   "source": [
    "import pandas as pd\n",
    "pro = pd.read_csv('D:/IMS Proschool/Business Analytics/Project/train.csv')\n",
    "pro.head()\n",
    "pro.shape\n",
    "pro.columns\n",
    "pro.isna().sum()\n",
    "pro.info()\n",
    "177/891*100\n",
    "2/891*100\n",
    "687/891*100\n",
    "\n",
    "pro.nunique()\n",
    "pro.Age.value_counts()"
   ]
  },
  {
   "cell_type": "code",
   "execution_count": null,
   "metadata": {},
   "outputs": [],
   "source": [
    "import seaborn as sns\n",
    "sns.boxplot(pro.Age)\n",
    "pro.Age.mean()\n",
    "pro.Age.median()\n",
    "pro.corr()\n",
    "sns.barplot(x='Pclass', y='Survived', data=pro)\n",
    "pro.Age.std()\n",
    "pro.Age.isna().sum()\n",
    "\n",
    "import numpy as np\n",
    "mean = pro['Age'].mean()\n",
    "std = pro['Age'].std()\n",
    "is_null = pro['Age'].isnull().sum()\n",
    "# compute random numbers between the mean, std and is_null\n",
    "r_age = np.random.randint(mean - std, mean + std, size = is_null)\n",
    "r_age\n",
    "\n",
    "pro.Age.isna().sum()\n",
    "\n",
    "mean\n",
    "std\n",
    "is_null\n",
    "\n",
    "ran_age = np.random.randint(mean - std, mean + std, size = is_null)\n",
    "ran_age\n",
    "# fill NaN values in Age column with random values generated\n",
    "age_slice = pro[\"Age\"].copy()\n",
    "age_slice\n",
    "age_slice[np.isnan(age_slice)] = ran_age\n",
    "\n",
    "pro[\"Age\"] = age_slice\n",
    "pro[\"Age\"] = pro[\"Age\"].astype(int)\n",
    "pro.isna().sum()\n",
    "\n",
    "age_slice[np.isnan(age_slice)]"
   ]
  },
  {
   "cell_type": "code",
   "execution_count": null,
   "metadata": {},
   "outputs": [],
   "source": [
    "pro.iloc[61]\n",
    "pro.iloc[829]\n",
    "\n",
    "pro.Embarked.mode()\n",
    "pro.Embarked.fillna(pro.Embarked.mode()[0], inplace=True)"
   ]
  },
  {
   "cell_type": "code",
   "execution_count": null,
   "metadata": {},
   "outputs": [],
   "source": [
    "pro = pro.drop(['PassengerId','Name','Ticket','Cabin'], axis=1)\n",
    "\n",
    "pro_num = pro[pro.select_dtypes(include=[np.number]).columns.tolist()]\n",
    "pro_dum = pd.get_dummies(pro[pro.select_dtypes(include='object').columns.tolist()])\n",
    "\n",
    "pro_num\n",
    "pro_dum\n",
    "\n",
    "pro_comb = pd.concat([pro_num,pro_dum], axis=1)\n",
    "\n",
    "X = pro_comb.drop(['Survived'], axis=1)\n",
    "Y = pro_comb['Survived']"
   ]
  },
  {
   "cell_type": "code",
   "execution_count": null,
   "metadata": {},
   "outputs": [],
   "source": [
    "#import LR, DT, RF, KNN, NB classifiers\n",
    "from sklearn.linear_model import LogisticRegression as lr\n",
    "from sklearn.tree import DecisionTreeClassifier as dt\n",
    "from sklearn.ensemble import RandomForestClassifier as rf\n",
    "from sklearn.neighbors import KNeighborsClassifier as knn\n",
    "from sklearn.naive_bayes import GaussianNB as nb\n",
    "\n",
    "from sklearn.model_selection import cross_val_score"
   ]
  },
  {
   "cell_type": "code",
   "execution_count": null,
   "metadata": {},
   "outputs": [],
   "source": [
    "lr_score = cross_val_score(lr(), X, Y, cv=4, scoring='accuracy')\n",
    "dt_score = cross_val_score(dt(), X, Y, cv=4, scoring='accuracy')\n",
    "rf_score = cross_val_score(rf(n_estimators=100), X, Y, cv=4, scoring='accuracy')\n",
    "knn_score = cross_val_score(knn(n_neighbors=10), X, Y, cv=4, scoring='accuracy')\n",
    "nb_score = cross_val_score(nb(), X, Y, cv=4, scoring='accuracy')\n",
    "\n",
    "lr_score\n",
    "l=lr_score.mean()\n",
    "\n",
    "dt_score\n",
    "d=dt_score.mean()\n",
    "\n",
    "rf_score\n",
    "r=rf_score.mean()\n",
    "\n",
    "knn_score\n",
    "k=knn_score.mean()\n",
    "\n",
    "nb_score\n",
    "n=nb_score.mean()"
   ]
  },
  {
   "cell_type": "code",
   "execution_count": null,
   "metadata": {},
   "outputs": [],
   "source": [
    "results = pd.DataFrame(\n",
    "        {\n",
    "        'Model':['Logistic Regression','Decision Tree','Random Forest','K Nearest Neighbors','Naive Bayes'],\n",
    "        'Score':[l,d,r,k,n]\n",
    "        }   )\n",
    "res = results.sort_values(by='Score', ascending=False)\n",
    "res"
   ]
  },
  {
   "cell_type": "code",
   "execution_count": null,
   "metadata": {},
   "outputs": [],
   "source": [
    "X.info()\n",
    "X['Fare'] = X['Fare'].astype(int)"
   ]
  },
  {
   "cell_type": "code",
   "execution_count": null,
   "metadata": {},
   "outputs": [],
   "source": [
    "from sklearn.ensemble import RandomForestClassifier\n",
    "clf = RandomForestClassifier(n_estimators=100)\n",
    "clf.fit(X,Y)\n",
    "print(clf.feature_importances_)\n",
    "importances = pd.DataFrame({'feature':X.columns,'importance':np.round(clf.feature_importances_,3)})\n",
    "importances = importances.sort_values('importance',ascending=False).set_index('feature')\n",
    "importances\n",
    "importances.plot.bar()"
   ]
  }
 ],
 "metadata": {
  "kernelspec": {
   "display_name": "Python 3",
   "language": "python",
   "name": "python3"
  },
  "language_info": {
   "codemirror_mode": {
    "name": "ipython",
    "version": 3
   },
   "file_extension": ".py",
   "mimetype": "text/x-python",
   "name": "python",
   "nbconvert_exporter": "python",
   "pygments_lexer": "ipython3",
   "version": "3.7.3"
  }
 },
 "nbformat": 4,
 "nbformat_minor": 2
}
